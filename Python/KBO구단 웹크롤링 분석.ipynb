{
  "nbformat": 4,
  "nbformat_minor": 0,
  "metadata": {
    "colab": {
      "provenance": []
    },
    "kernelspec": {
      "name": "python3",
      "display_name": "Python 3"
    },
    "language_info": {
      "name": "python"
    }
  },
  "cells": [
    {
      "cell_type": "code",
      "execution_count": 1,
      "metadata": {
        "colab": {
          "base_uri": "https://localhost:8080/"
        },
        "id": "VTgWE5MwTe7w",
        "outputId": "866f8a02-e7f0-43b1-db8e-277933a922b8"
      },
      "outputs": [
        {
          "output_type": "stream",
          "name": "stdout",
          "text": [
            "<tr>\n",
            "<td>1</td>\n",
            "<td>SSG</td>\n",
            "<td>144</td>\n",
            "<td>88</td>\n",
            "<td>52</td>\n",
            "<td>4</td>\n",
            "<td>0.629</td>\n",
            "<td>0</td>\n",
            "<td>4승0무6패</td>\n",
            "<td>4패</td>\n",
            "<td>49-0-23</td>\n",
            "<td>39-4-29</td>\n",
            "</tr>\n",
            "<tr>\n",
            "<td>2</td>\n",
            "<td>키움</td>\n",
            "<td>144</td>\n",
            "<td>80</td>\n",
            "<td>62</td>\n",
            "<td>2</td>\n",
            "<td>0.563</td>\n",
            "<td>9</td>\n",
            "<td>5승0무5패</td>\n",
            "<td>1승</td>\n",
            "<td>39-1-32</td>\n",
            "<td>41-1-30</td>\n",
            "</tr>\n"
          ]
        }
      ],
      "source": [
        "import urllib.request as ur\n",
        "from bs4 import BeautifulSoup as bs\n",
        "import usecsv\n",
        "\n",
        "url='https://www.koreabaseball.com/TeamRank/TeamRank.aspx'\n",
        "\n",
        "soup = bs(ur.urlopen(url).read(), 'html.parser')\n",
        "# print(soup)\n",
        "\n",
        "# tr_list =soup.find_all('tr')\n",
        "tr_list = soup.select(\"#cphContents_cphContents_cphContents_udpRecord > table > tbody > tr\")\n",
        "\n",
        "print(tr_list[0]) # select는 list형태로 데이터 저장, 첫번째 것을 출력해봤다.\n",
        "print(tr_list[1])\n",
        "\n",
        "# td = tr_list[1].find_all('td')\n",
        "# print(td)\n",
        "\n",
        "KBO_info=[['순위', '팀명', '경기', '승', '패', '무', '승률', '게임차', '최근10경기', '연속', '홈', '방문' ]]\n",
        "\n",
        "for tr in tr_list:\n",
        "  td = tr.find_all('td')\n",
        "  KBO_info.append([td[0].text, td[1].text, td[2].text, td[3].text, td[4].text, td[5].text, td[6].text, td[7].text, td[8].text, td[9].text, td[10].text, td[11].text])\n",
        " \n",
        "usecsv.writecsv('KBO_info.csv', KBO_info)\n",
        "\n",
        "\n",
        "# print(td[0].text)\n",
        "# print(td[1].text)\n",
        "# print(td[2].text)\n",
        "# print(td[3].text)\n",
        "# print(td[4].text)\n",
        "# print(td[5].text)\n",
        "# print(td[6].text)\n",
        "# print(td[7].text)\n",
        "# print(td[8].text)\n",
        "# print(td[9].text)\n",
        "# print(td[10].text)\n",
        "# print(td[11].text)\n"
      ]
    },
    {
      "cell_type": "code",
      "source": [
        "import pandas as pd\n",
        "df = pd.read_csv('KBO_info.csv')\n",
        "df.head() #데이터의 일부분을 확인 df.head()"
      ],
      "metadata": {
        "colab": {
          "base_uri": "https://localhost:8080/",
          "height": 206
        },
        "id": "lfIGhKT9mQfF",
        "outputId": "bee3c309-eea9-45fa-8eb3-10c06e19dc47"
      },
      "execution_count": 2,
      "outputs": [
        {
          "output_type": "execute_result",
          "data": {
            "text/plain": [
              "   순위   팀명   경기   승   패  무     승률   게임차  최근10경기  연속        홈       방문\n",
              "0   1  SSG  144  88  52  4  0.629   0.0  4승0무6패  4패  49-0-23  39-4-29\n",
              "1   2   키움  144  80  62  2  0.563   9.0  5승0무5패  1승  39-1-32  41-1-30\n",
              "2   3   LG  144  87  55  2  0.613   2.0  4승0무6패  1승  38-1-33  49-1-22\n",
              "3   4   KT  144  80  62  2  0.563   9.0  7승0무3패  1패  40-1-31  40-1-31\n",
              "4   5  KIA  144  70  73  1  0.490  19.5  7승0무3패  1패  31-0-41  39-1-32"
            ],
            "text/html": [
              "\n",
              "  <div id=\"df-988a328b-5d2d-4d0a-b2ae-3b9fe21a0258\">\n",
              "    <div class=\"colab-df-container\">\n",
              "      <div>\n",
              "<style scoped>\n",
              "    .dataframe tbody tr th:only-of-type {\n",
              "        vertical-align: middle;\n",
              "    }\n",
              "\n",
              "    .dataframe tbody tr th {\n",
              "        vertical-align: top;\n",
              "    }\n",
              "\n",
              "    .dataframe thead th {\n",
              "        text-align: right;\n",
              "    }\n",
              "</style>\n",
              "<table border=\"1\" class=\"dataframe\">\n",
              "  <thead>\n",
              "    <tr style=\"text-align: right;\">\n",
              "      <th></th>\n",
              "      <th>순위</th>\n",
              "      <th>팀명</th>\n",
              "      <th>경기</th>\n",
              "      <th>승</th>\n",
              "      <th>패</th>\n",
              "      <th>무</th>\n",
              "      <th>승률</th>\n",
              "      <th>게임차</th>\n",
              "      <th>최근10경기</th>\n",
              "      <th>연속</th>\n",
              "      <th>홈</th>\n",
              "      <th>방문</th>\n",
              "    </tr>\n",
              "  </thead>\n",
              "  <tbody>\n",
              "    <tr>\n",
              "      <th>0</th>\n",
              "      <td>1</td>\n",
              "      <td>SSG</td>\n",
              "      <td>144</td>\n",
              "      <td>88</td>\n",
              "      <td>52</td>\n",
              "      <td>4</td>\n",
              "      <td>0.629</td>\n",
              "      <td>0.0</td>\n",
              "      <td>4승0무6패</td>\n",
              "      <td>4패</td>\n",
              "      <td>49-0-23</td>\n",
              "      <td>39-4-29</td>\n",
              "    </tr>\n",
              "    <tr>\n",
              "      <th>1</th>\n",
              "      <td>2</td>\n",
              "      <td>키움</td>\n",
              "      <td>144</td>\n",
              "      <td>80</td>\n",
              "      <td>62</td>\n",
              "      <td>2</td>\n",
              "      <td>0.563</td>\n",
              "      <td>9.0</td>\n",
              "      <td>5승0무5패</td>\n",
              "      <td>1승</td>\n",
              "      <td>39-1-32</td>\n",
              "      <td>41-1-30</td>\n",
              "    </tr>\n",
              "    <tr>\n",
              "      <th>2</th>\n",
              "      <td>3</td>\n",
              "      <td>LG</td>\n",
              "      <td>144</td>\n",
              "      <td>87</td>\n",
              "      <td>55</td>\n",
              "      <td>2</td>\n",
              "      <td>0.613</td>\n",
              "      <td>2.0</td>\n",
              "      <td>4승0무6패</td>\n",
              "      <td>1승</td>\n",
              "      <td>38-1-33</td>\n",
              "      <td>49-1-22</td>\n",
              "    </tr>\n",
              "    <tr>\n",
              "      <th>3</th>\n",
              "      <td>4</td>\n",
              "      <td>KT</td>\n",
              "      <td>144</td>\n",
              "      <td>80</td>\n",
              "      <td>62</td>\n",
              "      <td>2</td>\n",
              "      <td>0.563</td>\n",
              "      <td>9.0</td>\n",
              "      <td>7승0무3패</td>\n",
              "      <td>1패</td>\n",
              "      <td>40-1-31</td>\n",
              "      <td>40-1-31</td>\n",
              "    </tr>\n",
              "    <tr>\n",
              "      <th>4</th>\n",
              "      <td>5</td>\n",
              "      <td>KIA</td>\n",
              "      <td>144</td>\n",
              "      <td>70</td>\n",
              "      <td>73</td>\n",
              "      <td>1</td>\n",
              "      <td>0.490</td>\n",
              "      <td>19.5</td>\n",
              "      <td>7승0무3패</td>\n",
              "      <td>1패</td>\n",
              "      <td>31-0-41</td>\n",
              "      <td>39-1-32</td>\n",
              "    </tr>\n",
              "  </tbody>\n",
              "</table>\n",
              "</div>\n",
              "      <button class=\"colab-df-convert\" onclick=\"convertToInteractive('df-988a328b-5d2d-4d0a-b2ae-3b9fe21a0258')\"\n",
              "              title=\"Convert this dataframe to an interactive table.\"\n",
              "              style=\"display:none;\">\n",
              "        \n",
              "  <svg xmlns=\"http://www.w3.org/2000/svg\" height=\"24px\"viewBox=\"0 0 24 24\"\n",
              "       width=\"24px\">\n",
              "    <path d=\"M0 0h24v24H0V0z\" fill=\"none\"/>\n",
              "    <path d=\"M18.56 5.44l.94 2.06.94-2.06 2.06-.94-2.06-.94-.94-2.06-.94 2.06-2.06.94zm-11 1L8.5 8.5l.94-2.06 2.06-.94-2.06-.94L8.5 2.5l-.94 2.06-2.06.94zm10 10l.94 2.06.94-2.06 2.06-.94-2.06-.94-.94-2.06-.94 2.06-2.06.94z\"/><path d=\"M17.41 7.96l-1.37-1.37c-.4-.4-.92-.59-1.43-.59-.52 0-1.04.2-1.43.59L10.3 9.45l-7.72 7.72c-.78.78-.78 2.05 0 2.83L4 21.41c.39.39.9.59 1.41.59.51 0 1.02-.2 1.41-.59l7.78-7.78 2.81-2.81c.8-.78.8-2.07 0-2.86zM5.41 20L4 18.59l7.72-7.72 1.47 1.35L5.41 20z\"/>\n",
              "  </svg>\n",
              "      </button>\n",
              "      \n",
              "  <style>\n",
              "    .colab-df-container {\n",
              "      display:flex;\n",
              "      flex-wrap:wrap;\n",
              "      gap: 12px;\n",
              "    }\n",
              "\n",
              "    .colab-df-convert {\n",
              "      background-color: #E8F0FE;\n",
              "      border: none;\n",
              "      border-radius: 50%;\n",
              "      cursor: pointer;\n",
              "      display: none;\n",
              "      fill: #1967D2;\n",
              "      height: 32px;\n",
              "      padding: 0 0 0 0;\n",
              "      width: 32px;\n",
              "    }\n",
              "\n",
              "    .colab-df-convert:hover {\n",
              "      background-color: #E2EBFA;\n",
              "      box-shadow: 0px 1px 2px rgba(60, 64, 67, 0.3), 0px 1px 3px 1px rgba(60, 64, 67, 0.15);\n",
              "      fill: #174EA6;\n",
              "    }\n",
              "\n",
              "    [theme=dark] .colab-df-convert {\n",
              "      background-color: #3B4455;\n",
              "      fill: #D2E3FC;\n",
              "    }\n",
              "\n",
              "    [theme=dark] .colab-df-convert:hover {\n",
              "      background-color: #434B5C;\n",
              "      box-shadow: 0px 1px 3px 1px rgba(0, 0, 0, 0.15);\n",
              "      filter: drop-shadow(0px 1px 2px rgba(0, 0, 0, 0.3));\n",
              "      fill: #FFFFFF;\n",
              "    }\n",
              "  </style>\n",
              "\n",
              "      <script>\n",
              "        const buttonEl =\n",
              "          document.querySelector('#df-988a328b-5d2d-4d0a-b2ae-3b9fe21a0258 button.colab-df-convert');\n",
              "        buttonEl.style.display =\n",
              "          google.colab.kernel.accessAllowed ? 'block' : 'none';\n",
              "\n",
              "        async function convertToInteractive(key) {\n",
              "          const element = document.querySelector('#df-988a328b-5d2d-4d0a-b2ae-3b9fe21a0258');\n",
              "          const dataTable =\n",
              "            await google.colab.kernel.invokeFunction('convertToInteractive',\n",
              "                                                     [key], {});\n",
              "          if (!dataTable) return;\n",
              "\n",
              "          const docLinkHtml = 'Like what you see? Visit the ' +\n",
              "            '<a target=\"_blank\" href=https://colab.research.google.com/notebooks/data_table.ipynb>data table notebook</a>'\n",
              "            + ' to learn more about interactive tables.';\n",
              "          element.innerHTML = '';\n",
              "          dataTable['output_type'] = 'display_data';\n",
              "          await google.colab.output.renderOutput(dataTable, element);\n",
              "          const docLink = document.createElement('div');\n",
              "          docLink.innerHTML = docLinkHtml;\n",
              "          element.appendChild(docLink);\n",
              "        }\n",
              "      </script>\n",
              "    </div>\n",
              "  </div>\n",
              "  "
            ]
          },
          "metadata": {},
          "execution_count": 2
        }
      ]
    },
    {
      "cell_type": "code",
      "source": [
        "df['팀명'].unique()"
      ],
      "metadata": {
        "colab": {
          "base_uri": "https://localhost:8080/"
        },
        "id": "pX67JnVxmhJr",
        "outputId": "2db8e837-36de-4172-9214-6bfbf71f35ba"
      },
      "execution_count": 3,
      "outputs": [
        {
          "output_type": "execute_result",
          "data": {
            "text/plain": [
              "array(['SSG', '키움', 'LG', 'KT', 'KIA', 'NC', '삼성', '롯데', '두산', '한화'],\n",
              "      dtype=object)"
            ]
          },
          "metadata": {},
          "execution_count": 3
        }
      ]
    },
    {
      "cell_type": "code",
      "source": [
        "df['엘롯기'] = ['레져야구' if item in ['LG', '롯데', 'KIA'] else '근본야구' for item in list(df['팀명'])]"
      ],
      "metadata": {
        "id": "WA6mp-Hqmlnr"
      },
      "execution_count": 4,
      "outputs": []
    },
    {
      "cell_type": "code",
      "source": [
        "import matplotlib.pyplot as plt\n",
        "df['승률'].head(5).plot(kind='bar') \n",
        "plt.xticks(range(5), labels=df['팀명'].head(5), rotation=0)\n",
        "plt.show() #쇼로 보자"
      ],
      "metadata": {
        "colab": {
          "base_uri": "https://localhost:8080/",
          "height": 264
        },
        "id": "F95IOi0KnPRF",
        "outputId": "59beeb05-8ffb-476a-dcd6-47b4d6808bb3"
      },
      "execution_count": 6,
      "outputs": [
        {
          "output_type": "display_data",
          "data": {
            "text/plain": [
              "<Figure size 432x288 with 1 Axes>"
            ],
            "image/png": "[encoded data removed]"
          },
          "metadata": {
            "needs_background": "light"
          }
        }
      ]
    },
    {
      "cell_type": "markdown",
      "source": [
        "팀명별 승률을 보여주는 표"
      ],
      "metadata": {
        "id": "3biY2XWXxkZs"
      }
    },
    {
      "cell_type": "markdown",
      "source": [
        "팀별로 승률을 분석하는 그래프, 5개팀만 출력"
      ],
      "metadata": {
        "id": "OZSKtDe2IOe2"
      }
    },
    {
      "cell_type": "code",
      "source": [
        "# 한글 폰트 설정, 실행 후 런타임 다시시작 해야한다\n",
        "import matplotlib.font_manager as fm\n",
        "\n",
        "!apt-get -qq -y install fonts-nanum > /dev/null\n",
        "fontpath = '/usr/share/fonts/truetype/nanum/NanumBarunGothic.ttf'\n",
        "font = fm.FontProperties(fname=fontpath, size=9)\n",
        "fm._rebuild()\n"
      ],
      "metadata": {
        "id": "r4U0zBbHnyFn"
      },
      "execution_count": 9,
      "outputs": []
    },
    {
      "cell_type": "code",
      "source": [
        "# 한글 폰트 설정, 런타임 재시작 후 이 구문을 실행. 이후에 그래프 출력시 한글폰트 출력\n",
        "import matplotlib.pyplot as plt\n",
        "import matplotlib as mpl\n",
        "import matplotlib.font_manager as fm\n",
        "\n",
        "mpl.rcParams['axes.unicode_minus'] = False\n",
        "\n",
        "path = '/usr/share/fonts/truetype/nanum/NanumGothicBold.ttf'\n",
        "font_name = fm.FontProperties(fname=path, size=18).get_name()\n",
        "plt.rc('font', family=font_name)\n",
        "fm._rebuild()"
      ],
      "metadata": {
        "id": "z2ua3AdMn7v1"
      },
      "execution_count": 5,
      "outputs": []
    },
    {
      "cell_type": "code",
      "source": [
        "import matplotlib.pyplot as plt\n",
        "import seaborn as sns\n",
        "\n",
        "plt.figure(figsize=(10, 7))\n",
        "sns.barplot(x='팀명', y='승률', data= df.head(10))\n",
        "\n",
        "plt.title('팀별 승률') \n",
        "plt.xticks(rotation=0)\n",
        "plt.show() "
      ],
      "metadata": {
        "colab": {
          "base_uri": "https://localhost:8080/",
          "height": 457
        },
        "id": "XN3XBYatoG6T",
        "outputId": "c713217b-7e03-4ec5-a844-76223b57b6b2"
      },
      "execution_count": 7,
      "outputs": [
        {
          "output_type": "display_data",
          "data": {
            "text/plain": [
              "<Figure size 720x504 with 1 Axes>"
            ],
            "image/png": "[encoded data removed]"
          },
          "metadata": {
            "needs_background": "light"
          }
        }
      ]
    },
    {
      "cell_type": "markdown",
      "source": [
        "팀별로 승률을 비교하는 그래프"
      ],
      "metadata": {
        "id": "ql2gyOoNIbtl"
      }
    },
    {
      "cell_type": "code",
      "source": [
        "plt.figure(figsize=(10, 7))\n",
        "sns.boxplot(x='엘롯기', y='승률', data=df)\n",
        "plt.show()  #엘롯기 승률 평균은 다른 구단들의 승률의 평균보다 높다"
      ],
      "metadata": {
        "colab": {
          "base_uri": "https://localhost:8080/",
          "height": 441
        },
        "id": "Pb8DRqukpFE3",
        "outputId": "5eae2310-e20f-463f-88df-e31e9eac7351"
      },
      "execution_count": null,
      "outputs": [
        {
          "output_type": "display_data",
          "data": {
            "text/plain": [
              "<Figure size 720x504 with 1 Axes>"
            ],
            "image/png": "[encoded data removed]"
          },
          "metadata": {
            "needs_background": "light"
          }
        }
      ]
    },
    {
      "cell_type": "markdown",
      "source": [
        "엘지, 롯데, 기아의 승률 평균은 다른 구단들의 승률 평균보다 높다"
      ],
      "metadata": {
        "id": "2XqSNAWrgg0P"
      }
    },
    {
      "cell_type": "code",
      "source": [
        "plt.figure(figsize=(10, 7))\n",
        "sns.boxplot(x='엘롯기', y='승', data=df)\n",
        "plt.show() # 엘롯기, 레져야구가 기대치보단 잘했다고 볼 수 있겠다"
      ],
      "metadata": {
        "colab": {
          "base_uri": "https://localhost:8080/",
          "height": 444
        },
        "id": "sdtgTRHTpMqP",
        "outputId": "d66f8723-65cf-48e1-d1e4-936776efce8e"
      },
      "execution_count": null,
      "outputs": [
        {
          "output_type": "display_data",
          "data": {
            "text/plain": [
              "<Figure size 720x504 with 1 Axes>"
            ],
            "image/png": "[encoded data removed]"
          },
          "metadata": {
            "needs_background": "light"
          }
        }
      ]
    },
    {
      "cell_type": "markdown",
      "source": [
        "엘지, 롯데, 기아의 평균 승수는 타 구단의 평균 승수보다 근사하게 높다"
      ],
      "metadata": {
        "id": "7HXj393jgpKI"
      }
    }
  ]
}